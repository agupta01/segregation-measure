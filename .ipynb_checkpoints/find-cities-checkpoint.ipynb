{
 "cells": [
  {
   "cell_type": "code",
   "execution_count": 2,
   "metadata": {},
   "outputs": [],
   "source": [
    "import numpy as np\n",
    "import geopandas as gpd\n",
    "import shapely"
   ]
  },
  {
   "cell_type": "code",
   "execution_count": 16,
   "metadata": {},
   "outputs": [],
   "source": [
    "data = gpd.read_file(\"data/nhgis0001_shape/1940_shapefiles/US_tract_1940.shp\")\n",
    "data10 = gpd.read_file(\"data/nhgis0001_shape/2010_shapefiles/US_tract_2010.shp\")"
   ]
  },
  {
   "cell_type": "code",
   "execution_count": 5,
   "metadata": {},
   "outputs": [
    {
     "data": {
      "text/plain": [
       "geopandas.geodataframe.GeoDataFrame"
      ]
     },
     "execution_count": 5,
     "metadata": {},
     "output_type": "execute_result"
    }
   ],
   "source": [
    "type(data)"
   ]
  },
  {
   "cell_type": "markdown",
   "metadata": {},
   "source": [
    "- NHGISST - State FIPS Code\n",
    "- NHGISCTY - County FIPS Code\n",
    "- GISJOIN2 - Tract ID"
   ]
  },
  {
   "cell_type": "code",
   "execution_count": 6,
   "metadata": {},
   "outputs": [
    {
     "data": {
      "text/html": [
       "<div>\n",
       "<style scoped>\n",
       "    .dataframe tbody tr th:only-of-type {\n",
       "        vertical-align: middle;\n",
       "    }\n",
       "\n",
       "    .dataframe tbody tr th {\n",
       "        vertical-align: top;\n",
       "    }\n",
       "\n",
       "    .dataframe thead th {\n",
       "        text-align: right;\n",
       "    }\n",
       "</style>\n",
       "<table border=\"1\" class=\"dataframe\">\n",
       "  <thead>\n",
       "    <tr style=\"text-align: right;\">\n",
       "      <th></th>\n",
       "      <th>NHGISST</th>\n",
       "      <th>NHGISCTY</th>\n",
       "      <th>GISJOIN</th>\n",
       "      <th>GISJOIN2</th>\n",
       "      <th>SHAPE_AREA</th>\n",
       "      <th>SHAPE_LEN</th>\n",
       "      <th>geometry</th>\n",
       "    </tr>\n",
       "  </thead>\n",
       "  <tbody>\n",
       "    <tr>\n",
       "      <th>0</th>\n",
       "      <td>550</td>\n",
       "      <td>0790</td>\n",
       "      <td>G55007900090</td>\n",
       "      <td>55007900090</td>\n",
       "      <td>1.902826e+06</td>\n",
       "      <td>9640.965368</td>\n",
       "      <td>POLYGON ((650791.784 654746.221, 650886.198 65...</td>\n",
       "    </tr>\n",
       "    <tr>\n",
       "      <th>1</th>\n",
       "      <td>550</td>\n",
       "      <td>0790</td>\n",
       "      <td>G55007900094</td>\n",
       "      <td>55007900094</td>\n",
       "      <td>4.469542e+06</td>\n",
       "      <td>12723.051874</td>\n",
       "      <td>POLYGON ((646759.565 651779.856, 646851.837 65...</td>\n",
       "    </tr>\n",
       "    <tr>\n",
       "      <th>2</th>\n",
       "      <td>550</td>\n",
       "      <td>0790</td>\n",
       "      <td>G55007900106</td>\n",
       "      <td>55007900106</td>\n",
       "      <td>1.922867e+06</td>\n",
       "      <td>9018.734789</td>\n",
       "      <td>POLYGON ((645601.102 647368.017, 645603.998 64...</td>\n",
       "    </tr>\n",
       "    <tr>\n",
       "      <th>3</th>\n",
       "      <td>550</td>\n",
       "      <td>0790</td>\n",
       "      <td>G55007900120</td>\n",
       "      <td>55007900120</td>\n",
       "      <td>5.911788e+05</td>\n",
       "      <td>3910.293426</td>\n",
       "      <td>POLYGON ((651610.978 645287.406, 651627.984 64...</td>\n",
       "    </tr>\n",
       "    <tr>\n",
       "      <th>4</th>\n",
       "      <td>550</td>\n",
       "      <td>0790</td>\n",
       "      <td>G55007900121</td>\n",
       "      <td>55007900121</td>\n",
       "      <td>5.986344e+05</td>\n",
       "      <td>3298.722875</td>\n",
       "      <td>POLYGON ((651663.884 644664.080, 651672.815 64...</td>\n",
       "    </tr>\n",
       "  </tbody>\n",
       "</table>\n",
       "</div>"
      ],
      "text/plain": [
       "  NHGISST NHGISCTY       GISJOIN     GISJOIN2    SHAPE_AREA     SHAPE_LEN  \\\n",
       "0     550     0790  G55007900090  55007900090  1.902826e+06   9640.965368   \n",
       "1     550     0790  G55007900094  55007900094  4.469542e+06  12723.051874   \n",
       "2     550     0790  G55007900106  55007900106  1.922867e+06   9018.734789   \n",
       "3     550     0790  G55007900120  55007900120  5.911788e+05   3910.293426   \n",
       "4     550     0790  G55007900121  55007900121  5.986344e+05   3298.722875   \n",
       "\n",
       "                                            geometry  \n",
       "0  POLYGON ((650791.784 654746.221, 650886.198 65...  \n",
       "1  POLYGON ((646759.565 651779.856, 646851.837 65...  \n",
       "2  POLYGON ((645601.102 647368.017, 645603.998 64...  \n",
       "3  POLYGON ((651610.978 645287.406, 651627.984 64...  \n",
       "4  POLYGON ((651663.884 644664.080, 651672.815 64...  "
      ]
     },
     "execution_count": 6,
     "metadata": {},
     "output_type": "execute_result"
    }
   ],
   "source": [
    "data.head()"
   ]
  },
  {
   "cell_type": "code",
   "execution_count": 7,
   "metadata": {},
   "outputs": [
    {
     "data": {
      "text/plain": [
       "array(['010', '060', '080', '090', '110', '130', '155', '170', '180',\n",
       "       '190', '210', '220', '240', '250', '260', '270', '290', '340',\n",
       "       '360', '390', '400', '410', '420', '440', '450', '470', '480',\n",
       "       '510', '530', '550'], dtype=object)"
      ]
     },
     "execution_count": 7,
     "metadata": {},
     "output_type": "execute_result"
    }
   ],
   "source": [
    "codes = np.unique(data.NHGISST.values)\n",
    "codes"
   ]
  },
  {
   "cell_type": "code",
   "execution_count": 12,
   "metadata": {},
   "outputs": [
    {
     "name": "stdout",
     "output_type": "stream",
     "text": [
      "['0490' '0990' '1250' '1630']\n"
     ]
    },
    {
     "data": {
      "text/html": [
       "<div>\n",
       "<style scoped>\n",
       "    .dataframe tbody tr th:only-of-type {\n",
       "        vertical-align: middle;\n",
       "    }\n",
       "\n",
       "    .dataframe tbody tr th {\n",
       "        vertical-align: top;\n",
       "    }\n",
       "\n",
       "    .dataframe thead th {\n",
       "        text-align: right;\n",
       "    }\n",
       "</style>\n",
       "<table border=\"1\" class=\"dataframe\">\n",
       "  <thead>\n",
       "    <tr style=\"text-align: right;\">\n",
       "      <th></th>\n",
       "      <th>NHGISST</th>\n",
       "      <th>NHGISCTY</th>\n",
       "      <th>GISJOIN</th>\n",
       "      <th>GISJOIN2</th>\n",
       "      <th>SHAPE_AREA</th>\n",
       "      <th>SHAPE_LEN</th>\n",
       "      <th>geometry</th>\n",
       "    </tr>\n",
       "  </thead>\n",
       "  <tbody>\n",
       "    <tr>\n",
       "      <th>3908</th>\n",
       "      <td>060</td>\n",
       "      <td>0370</td>\n",
       "      <td>G06003700034</td>\n",
       "      <td>06003700034</td>\n",
       "      <td>3.057989e+06</td>\n",
       "      <td>10525.801582</td>\n",
       "      <td>POLYGON ((-2015302.692 -139376.336, -2015297.8...</td>\n",
       "    </tr>\n",
       "    <tr>\n",
       "      <th>3909</th>\n",
       "      <td>060</td>\n",
       "      <td>0370</td>\n",
       "      <td>G06003700033</td>\n",
       "      <td>06003700033</td>\n",
       "      <td>4.212021e+06</td>\n",
       "      <td>11274.264323</td>\n",
       "      <td>POLYGON ((-2014323.255 -138977.584, -2014260.9...</td>\n",
       "    </tr>\n",
       "    <tr>\n",
       "      <th>3984</th>\n",
       "      <td>060</td>\n",
       "      <td>0750</td>\n",
       "      <td>G0600750N0012</td>\n",
       "      <td>0600750N0012</td>\n",
       "      <td>7.223087e+05</td>\n",
       "      <td>4205.906508</td>\n",
       "      <td>POLYGON ((-2276629.252 346697.116, -2276645.47...</td>\n",
       "    </tr>\n",
       "    <tr>\n",
       "      <th>3990</th>\n",
       "      <td>060</td>\n",
       "      <td>0750</td>\n",
       "      <td>G0600750O0001</td>\n",
       "      <td>0600750O0001</td>\n",
       "      <td>2.631887e+06</td>\n",
       "      <td>8014.334206</td>\n",
       "      <td>POLYGON ((-2278293.841 347860.183, -2278165.19...</td>\n",
       "    </tr>\n",
       "    <tr>\n",
       "      <th>4003</th>\n",
       "      <td>060</td>\n",
       "      <td>0370</td>\n",
       "      <td>G06003700030</td>\n",
       "      <td>06003700030</td>\n",
       "      <td>1.059832e+07</td>\n",
       "      <td>20186.884971</td>\n",
       "      <td>POLYGON ((-2023691.750 -136086.644, -2023603.1...</td>\n",
       "    </tr>\n",
       "    <tr>\n",
       "      <th>...</th>\n",
       "      <td>...</td>\n",
       "      <td>...</td>\n",
       "      <td>...</td>\n",
       "      <td>...</td>\n",
       "      <td>...</td>\n",
       "      <td>...</td>\n",
       "      <td>...</td>\n",
       "    </tr>\n",
       "    <tr>\n",
       "      <th>7460</th>\n",
       "      <td>060</td>\n",
       "      <td>0370</td>\n",
       "      <td>G06003700173</td>\n",
       "      <td>06003700173</td>\n",
       "      <td>4.534233e+05</td>\n",
       "      <td>3082.399958</td>\n",
       "      <td>POLYGON ((-2021503.417 -148734.166, -2021543.4...</td>\n",
       "    </tr>\n",
       "    <tr>\n",
       "      <th>7461</th>\n",
       "      <td>060</td>\n",
       "      <td>0370</td>\n",
       "      <td>G06003700174</td>\n",
       "      <td>06003700174</td>\n",
       "      <td>4.089571e+05</td>\n",
       "      <td>3008.494536</td>\n",
       "      <td>POLYGON ((-2022467.651 -148181.111, -2022602.7...</td>\n",
       "    </tr>\n",
       "    <tr>\n",
       "      <th>7462</th>\n",
       "      <td>060</td>\n",
       "      <td>0370</td>\n",
       "      <td>G06003700175</td>\n",
       "      <td>06003700175</td>\n",
       "      <td>4.194136e+05</td>\n",
       "      <td>2884.431226</td>\n",
       "      <td>POLYGON ((-2021661.133 -148867.616, -2021806.6...</td>\n",
       "    </tr>\n",
       "    <tr>\n",
       "      <th>7463</th>\n",
       "      <td>060</td>\n",
       "      <td>0370</td>\n",
       "      <td>G06003700176</td>\n",
       "      <td>06003700176</td>\n",
       "      <td>3.261174e+05</td>\n",
       "      <td>2585.063468</td>\n",
       "      <td>POLYGON ((-2022837.706 -148622.932, -2022837.6...</td>\n",
       "    </tr>\n",
       "    <tr>\n",
       "      <th>7464</th>\n",
       "      <td>060</td>\n",
       "      <td>0370</td>\n",
       "      <td>G06003700177</td>\n",
       "      <td>06003700177</td>\n",
       "      <td>3.654476e+05</td>\n",
       "      <td>2779.731633</td>\n",
       "      <td>POLYGON ((-2021929.753 -148973.446, -2021912.7...</td>\n",
       "    </tr>\n",
       "  </tbody>\n",
       "</table>\n",
       "<p>837 rows × 7 columns</p>\n",
       "</div>"
      ],
      "text/plain": [
       "     NHGISST NHGISCTY        GISJOIN      GISJOIN2    SHAPE_AREA  \\\n",
       "3908     060     0370   G06003700034   06003700034  3.057989e+06   \n",
       "3909     060     0370   G06003700033   06003700033  4.212021e+06   \n",
       "3984     060     0750  G0600750N0012  0600750N0012  7.223087e+05   \n",
       "3990     060     0750  G0600750O0001  0600750O0001  2.631887e+06   \n",
       "4003     060     0370   G06003700030   06003700030  1.059832e+07   \n",
       "...      ...      ...            ...           ...           ...   \n",
       "7460     060     0370   G06003700173   06003700173  4.534233e+05   \n",
       "7461     060     0370   G06003700174   06003700174  4.089571e+05   \n",
       "7462     060     0370   G06003700175   06003700175  4.194136e+05   \n",
       "7463     060     0370   G06003700176   06003700176  3.261174e+05   \n",
       "7464     060     0370   G06003700177   06003700177  3.654476e+05   \n",
       "\n",
       "         SHAPE_LEN                                           geometry  \n",
       "3908  10525.801582  POLYGON ((-2015302.692 -139376.336, -2015297.8...  \n",
       "3909  11274.264323  POLYGON ((-2014323.255 -138977.584, -2014260.9...  \n",
       "3984   4205.906508  POLYGON ((-2276629.252 346697.116, -2276645.47...  \n",
       "3990   8014.334206  POLYGON ((-2278293.841 347860.183, -2278165.19...  \n",
       "4003  20186.884971  POLYGON ((-2023691.750 -136086.644, -2023603.1...  \n",
       "...            ...                                                ...  \n",
       "7460   3082.399958  POLYGON ((-2021503.417 -148734.166, -2021543.4...  \n",
       "7461   3008.494536  POLYGON ((-2022467.651 -148181.111, -2022602.7...  \n",
       "7462   2884.431226  POLYGON ((-2021661.133 -148867.616, -2021806.6...  \n",
       "7463   2585.063468  POLYGON ((-2022837.706 -148622.932, -2022837.6...  \n",
       "7464   2779.731633  POLYGON ((-2021929.753 -148973.446, -2021912.7...  \n",
       "\n",
       "[837 rows x 7 columns]"
      ]
     },
     "execution_count": 12,
     "metadata": {},
     "output_type": "execute_result"
    }
   ],
   "source": [
    "# import matplotlib\n",
    "import descartes\n",
    "%matplotlib inline\n",
    "print(np.unique(data[data.NHGISST == codes[14]].NHGISCTY.values))\n",
    "data[data.NHGISST == '060']"
   ]
  },
  {
   "cell_type": "code",
   "execution_count": 9,
   "metadata": {},
   "outputs": [
    {
     "name": "stdout",
     "output_type": "stream",
     "text": [
      "Series([], Name: GISJOIN2, dtype: object)\n"
     ]
    },
    {
     "data": {
      "text/plain": [
       "'290'"
      ]
     },
     "execution_count": 9,
     "metadata": {},
     "output_type": "execute_result"
    }
   ],
   "source": [
    "print(data[data.NHGISCTY == codes[16]].GISJOIN2)\n",
    "codes[16]"
   ]
  },
  {
   "cell_type": "markdown",
   "metadata": {},
   "source": [
    "Manually verify that the tract crosswalk matches up:"
   ]
  },
  {
   "cell_type": "code",
   "execution_count": 41,
   "metadata": {},
   "outputs": [
    {
     "data": {
      "text/plain": [
       "(-2277820.626274784, 346843.1824467023)"
      ]
     },
     "execution_count": 41,
     "metadata": {},
     "output_type": "execute_result"
    },
    {
     "data": {
      "image/png": "[encoded data removed]",
      "text/plain": [
       "<Figure size 432x288 with 1 Axes>"
      ]
     },
     "metadata": {
      "needs_background": "light"
     },
     "output_type": "display_data"
    }
   ],
   "source": [
    "import matplotlib.pyplot as plt\n",
    "from shapely.geometry.polygon import LinearRing, Polygon\n",
    "polygon = data[data.GISJOIN2 == '0600750N0012'].geometry.values[0]\n",
    "polygon10 = data10[data10.GEOID10 == \"06075021300\"].geometry.values[0].centroid\n",
    "x, y = polygon.exterior.xy\n",
    "x10, y10 = polygon10.x, polygon10.y\n",
    "fig, ax = plt.subplots()\n",
    "ax.plot(x, y, c='r', alpha=0.5)\n",
    "ax.scatter(x10, y10, c='blue')\n",
    "x10, y10\n",
    "# plt.plot(data[data.GISJOIN2 == '0600750O0001'])\n",
    "# data10[data10.GEOID10 == \"06075030102\"].plot()"
   ]
  },
  {
   "cell_type": "code",
   "execution_count": null,
   "metadata": {},
   "outputs": [],
   "source": []
  }
 ],
 "metadata": {
  "kernelspec": {
   "display_name": "Python 3.6.7 64-bit ('tensorflow': conda)",
   "language": "python",
   "name": "python36764bittensorflowconda932265a4d8124c0185ef74e64509c679"
  },
  "language_info": {
   "codemirror_mode": {
    "name": "ipython",
    "version": 3
   },
   "file_extension": ".py",
   "mimetype": "text/x-python",
   "name": "python",
   "nbconvert_exporter": "python",
   "pygments_lexer": "ipython3",
   "version": "3.6.7"
  }
 },
 "nbformat": 4,
 "nbformat_minor": 4
}
