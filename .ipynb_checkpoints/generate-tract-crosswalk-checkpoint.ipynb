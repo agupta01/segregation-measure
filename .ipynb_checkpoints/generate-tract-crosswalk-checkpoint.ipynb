{
 "cells": [
  {
   "cell_type": "code",
   "execution_count": 76,
   "metadata": {},
   "outputs": [],
   "source": [
    "import numpy as np\n",
    "import pandas as pd\n",
    "import geopandas as gpd\n",
    "import shapely\n",
    "import descartes\n",
    "from tqdm import tqdm\n",
    "import matplotlib.pyplot as plt\n",
    "%matplotlib inline"
   ]
  },
  {
   "cell_type": "code",
   "execution_count": 74,
   "metadata": {},
   "outputs": [
    {
     "name": "stdout",
     "output_type": "stream",
     "text": [
      "Importing 1940 tract data...\n",
      "Importing 2010 tract data...\n"
     ]
    },
    {
     "data": {
      "text/html": [
       "<div>\n",
       "<style scoped>\n",
       "    .dataframe tbody tr th:only-of-type {\n",
       "        vertical-align: middle;\n",
       "    }\n",
       "\n",
       "    .dataframe tbody tr th {\n",
       "        vertical-align: top;\n",
       "    }\n",
       "\n",
       "    .dataframe thead th {\n",
       "        text-align: right;\n",
       "    }\n",
       "</style>\n",
       "<table border=\"1\" class=\"dataframe\">\n",
       "  <thead>\n",
       "    <tr style=\"text-align: right;\">\n",
       "      <th></th>\n",
       "      <th>State</th>\n",
       "      <th>County</th>\n",
       "      <th>TractID_2010</th>\n",
       "      <th>Geometry_2010</th>\n",
       "    </tr>\n",
       "  </thead>\n",
       "  <tbody>\n",
       "    <tr>\n",
       "      <th>0</th>\n",
       "      <td>06</td>\n",
       "      <td>083</td>\n",
       "      <td>06083002402</td>\n",
       "      <td>POLYGON ((-2190454.484 -1818.340, -2190458.553...</td>\n",
       "    </tr>\n",
       "    <tr>\n",
       "      <th>1</th>\n",
       "      <td>06</td>\n",
       "      <td>083</td>\n",
       "      <td>06083002102</td>\n",
       "      <td>POLYGON ((-2187515.087 -3474.486, -2187572.399...</td>\n",
       "    </tr>\n",
       "    <tr>\n",
       "      <th>2</th>\n",
       "      <td>06</td>\n",
       "      <td>083</td>\n",
       "      <td>06083002009</td>\n",
       "      <td>POLYGON ((-2189494.128 -10631.359, -2189516.12...</td>\n",
       "    </tr>\n",
       "    <tr>\n",
       "      <th>3</th>\n",
       "      <td>06</td>\n",
       "      <td>083</td>\n",
       "      <td>06083002008</td>\n",
       "      <td>POLYGON ((-2189029.408 -9557.208, -2189024.501...</td>\n",
       "    </tr>\n",
       "    <tr>\n",
       "      <th>4</th>\n",
       "      <td>06</td>\n",
       "      <td>011</td>\n",
       "      <td>06011000500</td>\n",
       "      <td>POLYGON ((-2192298.375 513039.620, -2192185.26...</td>\n",
       "    </tr>\n",
       "  </tbody>\n",
       "</table>\n",
       "</div>"
      ],
      "text/plain": [
       "  State County TractID_2010                                      Geometry_2010\n",
       "0    06    083  06083002402  POLYGON ((-2190454.484 -1818.340, -2190458.553...\n",
       "1    06    083  06083002102  POLYGON ((-2187515.087 -3474.486, -2187572.399...\n",
       "2    06    083  06083002009  POLYGON ((-2189494.128 -10631.359, -2189516.12...\n",
       "3    06    083  06083002008  POLYGON ((-2189029.408 -9557.208, -2189024.501...\n",
       "4    06    011  06011000500  POLYGON ((-2192298.375 513039.620, -2192185.26..."
      ]
     },
     "execution_count": 74,
     "metadata": {},
     "output_type": "execute_result"
    }
   ],
   "source": [
    "print(\"Importing 1940 tract data...\")\n",
    "tracts_1940 = gpd.read_file(\"nhgis0001_shape/1940_shapefiles/US_tract_1940.shp\").rename(columns={'NHGISST': \"State\", 'NHGISCTY': \"County\", 'GISJOIN2': \"TractID_1940\", 'geometry': \"Geometry_1940\"})\n",
    "print(\"Importing 2010 tract data...\")\n",
    "tracts_2010 = gpd.read_file(\"nhgis0001_shape/2010_shapefiles/US_tract_2010.shp\").rename(columns={'STATEFP10': \"State\", 'COUNTYFP10': \"County\", 'GEOID10': \"TractID_2010\", 'geometry': \"Geometry_2010\"})\n",
    "cityList = pd.read_csv(\"./CityList.csv\", dtype=str).set_index(\"place\")\n",
    "tracts_1940 = tracts_1940.filter(['State', 'County', 'TractID_1940', 'Geometry_1940'])\n",
    "tracts_2010 = tracts_2010.filter(['State', 'County', 'TractID_2010', 'Geometry_2010'])\n",
    "tracts_2010.head()"
   ]
  },
  {
   "cell_type": "markdown",
   "metadata": {},
   "source": [
    "#### To get city geodata:\n",
    "```\n",
    "state = cityList.loc[PLACENAME].state\n",
    "county = cityList.loc[PLACENAME].county\n",
    "tracts_YEAR[tracts_Year.NHGISST == state][tracts_Year.NHGISCTY == county]\n",
    "```\n",
    "remember to remove final 0 if pulling from 2010 tracts!"
   ]
  },
  {
   "cell_type": "code",
   "execution_count": 55,
   "metadata": {},
   "outputs": [
    {
     "name": "stdout",
     "output_type": "stream",
     "text": [
      "1940 tracts before join: 7563\n",
      "2010 tracts before join: 73669\n",
      "tracts after join: 7563 (100.0%)\n"
     ]
    }
   ],
   "source": [
    "reindex_1940 = tracts_1940.rename(columns={\"TractID_1940\": 'TractID'})\n",
    "reindex_1940.set_index(\"TractID\", inplace=True)\n",
    "reindex_2010 = tracts_2010.rename(columns={\"TractID_2010\": 'TractID'})\n",
    "reindex_2010.set_index(\"TractID\", inplace=True)\n",
    "\n",
    "print(\"1940 tracts before join: {}\".format(reindex_1940.shape[0]))\n",
    "print(\"2010 tracts before join: {}\".format(reindex_2010.shape[0]))\n",
    "joined = reindex_1940.join(reindex_2010, lsuffix=\"_1940\", rsuffix=\"_2010\")\n",
    "print(\"tracts after join: {} ({}%)\".format(joined.shape[0], np.round(joined.shape[0]/reindex_1940.shape[0] * 100, 1)))"
   ]
  },
  {
   "cell_type": "markdown",
   "metadata": {},
   "source": [
    "Although the join worked with 100% accuracy, we cannot conclude that the 2010 version of a tract occupies the same area as the 1940 version of that tract (see below)"
   ]
  },
  {
   "cell_type": "code",
   "execution_count": 56,
   "metadata": {},
   "outputs": [
    {
     "name": "stderr",
     "output_type": "stream",
     "text": [
      "/Users/arunavgupta/anaconda3/envs/tensorflow/lib/python3.6/site-packages/geopandas/geodataframe.py:576: UserWarning: Boolean Series key will be reindexed to match DataFrame index.\n",
      "  result = super(GeoDataFrame, self).__getitem__(key)\n",
      "/Users/arunavgupta/anaconda3/envs/tensorflow/lib/python3.6/site-packages/geopandas/geodataframe.py:576: UserWarning: Boolean Series key will be reindexed to match DataFrame index.\n",
      "  result = super(GeoDataFrame, self).__getitem__(key)\n"
     ]
    },
    {
     "data": {
      "text/plain": [
       "<matplotlib.axes._subplots.AxesSubplot at 0x11abb6a20>"
      ]
     },
     "execution_count": 56,
     "metadata": {},
     "output_type": "execute_result"
    },
    {
     "data": {
      "image/png": "[encoded data removed]",
      "text/plain": [
       "<Figure size 432x288 with 1 Axes>"
      ]
     },
     "metadata": {
      "needs_background": "light"
     },
     "output_type": "display_data"
    },
    {
     "data": {
      "image/png": "[encoded data removed]",
      "text/plain": [
       "<Figure size 432x288 with 1 Axes>"
      ]
     },
     "metadata": {
      "needs_background": "light"
     },
     "output_type": "display_data"
    }
   ],
   "source": [
    "state = cityList.loc['NYC_Brooklyn'].state\n",
    "county = cityList.loc['NYC_Brooklyn'].county\n",
    "plot_friendly_1940 = gpd.read_file(\"nhgis0001_shape/1940_shapefiles/US_tract_1940.shp\")\n",
    "plot_friendly_2010 = gpd.read_file(\"nhgis0001_shape/2010_shapefiles/US_tract_2010.shp\")\n",
    "\n",
    "state, county\n",
    "plot_friendly_1940[plot_friendly_1940.NHGISST == state][plot_friendly_1940.NHGISCTY == county].plot()\n",
    "plot_friendly_2010[plot_friendly_2010.STATEFP10 == state[:-1]][plot_friendly_2010.COUNTYFP10 == county[:-1]].plot()"
   ]
  },
  {
   "cell_type": "markdown",
   "metadata": {},
   "source": [
    "## Strategy for building crosswalk \n",
    "\n",
    "(although each 1940 tract ID has a 2010 analogue, examination of the above map shows us that there are actually multiple 2010 tracts within a 1940 tract area. So, we must average the statistics for the subset of 2010 tracts in a given 1940 tract. Doing so requires building a centroid --> point in polygon algorithm):\n",
    "\n",
    "1. filter to just tracts from a given county\n",
    "2. get centroids of 2010 tracts, add those in column to 2010 tracts df\n",
    "3. for each 1940 tract, search through each 2010 tract (double for each)\n",
    "4. if centroid is in polygon for the tract, add 1940 tract ID | 2010 tract ID to crosswalk dataframe"
   ]
  },
  {
   "cell_type": "code",
   "execution_count": 77,
   "metadata": {},
   "outputs": [],
   "source": [
    "# helper function to get centroid of polygon\n",
    "centroid = lambda x: x.centroid\n",
    "def get_county_crosswalk(placeName):\n",
    "    # create place_specific crosswalk dataframe\n",
    "    temp_crosswalk = pd.DataFrame({'Region':[], 'Tract_1940':[], 'Tract_2010':[]})\n",
    "    \n",
    "    # filter to just tracts from a given county\n",
    "    state = cityList.loc[placeName].state\n",
    "    county = cityList.loc[placeName].county\n",
    "    filtered_1940 = tracts_1940[tracts_1940.State == state][tracts_1940.County == county]\n",
    "    filtered_2010 = tracts_2010[tracts_2010.State == state[:-1]][tracts_2010.County == county[:-1]]\n",
    "    # get centroids of 2010 tracts, add to df\n",
    "    filtered_2010['Centroid'] = filtered_2010.Geometry_2010.apply(centroid)\n",
    "    \n",
    "    # for each 1940 tract\n",
    "    print(\"Current region: {}...\".format(placeName))\n",
    "    for index, tract in tqdm(filtered_1940.iterrows()):\n",
    "        # search through each 2010 tract\n",
    "        for index10, tract10 in filtered_2010.iterrows():\n",
    "            # if centroid of 2010 tract is in 1940 tract geometry, add to crosswalk df\n",
    "            if tract10.Centroid.within(tract.Geometry_1940):\n",
    "                temp_crosswalk = temp_crosswalk.append({'Region': placeName, \n",
    "                                       'Tract_1940': tract.TractID_1940,\n",
    "                                      'Tract_2010': tract10.TractID_2010}, ignore_index=True)\n",
    "    \n",
    "    print(\"Generation for {} completed!\".format(placeName))\n",
    "    return temp_crosswalk\n",
    "\n",
    "# get_county_crosswalk(\"San Francisco\")"
   ]
  },
  {
   "cell_type": "code",
   "execution_count": 78,
   "metadata": {},
   "outputs": [
    {
     "data": {
      "text/html": [
       "<div>\n",
       "<style scoped>\n",
       "    .dataframe tbody tr th:only-of-type {\n",
       "        vertical-align: middle;\n",
       "    }\n",
       "\n",
       "    .dataframe tbody tr th {\n",
       "        vertical-align: top;\n",
       "    }\n",
       "\n",
       "    .dataframe thead th {\n",
       "        text-align: right;\n",
       "    }\n",
       "</style>\n",
       "<table border=\"1\" class=\"dataframe\">\n",
       "  <thead>\n",
       "    <tr style=\"text-align: right;\">\n",
       "      <th></th>\n",
       "      <th>state</th>\n",
       "      <th>county</th>\n",
       "    </tr>\n",
       "    <tr>\n",
       "      <th>place</th>\n",
       "      <th></th>\n",
       "      <th></th>\n",
       "    </tr>\n",
       "  </thead>\n",
       "  <tbody>\n",
       "    <tr>\n",
       "      <th>San Francisco</th>\n",
       "      <td>060</td>\n",
       "      <td>0750</td>\n",
       "    </tr>\n",
       "    <tr>\n",
       "      <th>Los Angeles</th>\n",
       "      <td>060</td>\n",
       "      <td>0370</td>\n",
       "    </tr>\n",
       "    <tr>\n",
       "      <th>NYC_Bronx</th>\n",
       "      <td>360</td>\n",
       "      <td>0050</td>\n",
       "    </tr>\n",
       "    <tr>\n",
       "      <th>NYC_Brooklyn</th>\n",
       "      <td>360</td>\n",
       "      <td>0470</td>\n",
       "    </tr>\n",
       "    <tr>\n",
       "      <th>NYC_Manhattan</th>\n",
       "      <td>360</td>\n",
       "      <td>0610</td>\n",
       "    </tr>\n",
       "    <tr>\n",
       "      <th>NYC_Queens</th>\n",
       "      <td>360</td>\n",
       "      <td>0810</td>\n",
       "    </tr>\n",
       "    <tr>\n",
       "      <th>NYC_Staten</th>\n",
       "      <td>360</td>\n",
       "      <td>0850</td>\n",
       "    </tr>\n",
       "    <tr>\n",
       "      <th>Chicago</th>\n",
       "      <td>170</td>\n",
       "      <td>0310</td>\n",
       "    </tr>\n",
       "    <tr>\n",
       "      <th>Atlanta</th>\n",
       "      <td>130</td>\n",
       "      <td>1210</td>\n",
       "    </tr>\n",
       "    <tr>\n",
       "      <th>Baltimore</th>\n",
       "      <td>240</td>\n",
       "      <td>5100</td>\n",
       "    </tr>\n",
       "    <tr>\n",
       "      <th>Detroit</th>\n",
       "      <td>260</td>\n",
       "      <td>1630</td>\n",
       "    </tr>\n",
       "  </tbody>\n",
       "</table>\n",
       "</div>"
      ],
      "text/plain": [
       "              state county\n",
       "place                     \n",
       "San Francisco   060   0750\n",
       "Los Angeles     060   0370\n",
       "NYC_Bronx       360   0050\n",
       "NYC_Brooklyn    360   0470\n",
       "NYC_Manhattan   360   0610\n",
       "NYC_Queens      360   0810\n",
       "NYC_Staten      360   0850\n",
       "Chicago         170   0310\n",
       "Atlanta         130   1210\n",
       "Baltimore       240   5100\n",
       "Detroit         260   1630"
      ]
     },
     "execution_count": 78,
     "metadata": {},
     "output_type": "execute_result"
    }
   ],
   "source": [
    "cityList"
   ]
  },
  {
   "cell_type": "code",
   "execution_count": 79,
   "metadata": {},
   "outputs": [
    {
     "name": "stderr",
     "output_type": "stream",
     "text": [
      "/Users/arunavgupta/anaconda3/envs/tensorflow/lib/python3.6/site-packages/ipykernel_launcher.py:10: UserWarning: Boolean Series key will be reindexed to match DataFrame index.\n",
      "  # Remove the CWD from sys.path while we load stuff.\n",
      "/Users/arunavgupta/anaconda3/envs/tensorflow/lib/python3.6/site-packages/ipykernel_launcher.py:11: UserWarning: Boolean Series key will be reindexed to match DataFrame index.\n",
      "  # This is added back by InteractiveShellApp.init_path()\n",
      "4it [00:00, 31.37it/s]"
     ]
    },
    {
     "name": "stdout",
     "output_type": "stream",
     "text": [
      "Current region: San Francisco...\n"
     ]
    },
    {
     "name": "stderr",
     "output_type": "stream",
     "text": [
      "118it [00:03, 35.61it/s]\n",
      "0it [00:00, ?it/s]"
     ]
    },
    {
     "name": "stdout",
     "output_type": "stream",
     "text": [
      "Generation for San Francisco completed!\n",
      "Current region: Los Angeles...\n"
     ]
    },
    {
     "name": "stderr",
     "output_type": "stream",
     "text": [
      "589it [02:47,  3.52it/s]\n",
      "2it [00:00, 17.56it/s]"
     ]
    },
    {
     "name": "stdout",
     "output_type": "stream",
     "text": [
      "Generation for Los Angeles completed!\n",
      "Current region: NYC_Bronx...\n"
     ]
    },
    {
     "name": "stderr",
     "output_type": "stream",
     "text": [
      "65it [00:03, 19.82it/s]\n",
      "1it [00:00,  9.65it/s]"
     ]
    },
    {
     "name": "stdout",
     "output_type": "stream",
     "text": [
      "Generation for NYC_Bronx completed!\n",
      "Current region: NYC_Brooklyn...\n"
     ]
    },
    {
     "name": "stderr",
     "output_type": "stream",
     "text": [
      "118it [00:12,  9.82it/s]\n",
      "3it [00:00, 24.58it/s]"
     ]
    },
    {
     "name": "stdout",
     "output_type": "stream",
     "text": [
      "Generation for NYC_Brooklyn completed!\n",
      "Current region: NYC_Manhattan...\n"
     ]
    },
    {
     "name": "stderr",
     "output_type": "stream",
     "text": [
      "93it [00:03, 24.58it/s]\n",
      "1it [00:00,  9.84it/s]"
     ]
    },
    {
     "name": "stdout",
     "output_type": "stream",
     "text": [
      "Generation for NYC_Manhattan completed!\n",
      "Current region: NYC_Queens...\n"
     ]
    },
    {
     "name": "stderr",
     "output_type": "stream",
     "text": [
      "60it [00:05, 10.18it/s]\n",
      "3it [00:00, 24.41it/s]"
     ]
    },
    {
     "name": "stdout",
     "output_type": "stream",
     "text": [
      "Generation for NYC_Queens completed!\n",
      "Current region: NYC_Staten...\n"
     ]
    },
    {
     "name": "stderr",
     "output_type": "stream",
     "text": [
      "11it [00:00, 30.55it/s]\n",
      "0it [00:00, ?it/s]"
     ]
    },
    {
     "name": "stdout",
     "output_type": "stream",
     "text": [
      "Generation for NYC_Staten completed!\n",
      "Current region: Chicago...\n"
     ]
    },
    {
     "name": "stderr",
     "output_type": "stream",
     "text": [
      "935it [02:31,  6.16it/s]\n",
      "4it [00:00, 38.30it/s]"
     ]
    },
    {
     "name": "stdout",
     "output_type": "stream",
     "text": [
      "Generation for Chicago completed!\n",
      "Current region: Atlanta...\n"
     ]
    },
    {
     "name": "stderr",
     "output_type": "stream",
     "text": [
      "86it [00:02, 34.02it/s]\n",
      "4it [00:00, 34.93it/s]"
     ]
    },
    {
     "name": "stdout",
     "output_type": "stream",
     "text": [
      "Generation for Atlanta completed!\n",
      "Current region: Baltimore...\n"
     ]
    },
    {
     "name": "stderr",
     "output_type": "stream",
     "text": [
      "157it [00:04, 32.70it/s]\n",
      "0it [00:00, ?it/s]"
     ]
    },
    {
     "name": "stdout",
     "output_type": "stream",
     "text": [
      "Generation for Baltimore completed!\n",
      "Current region: Detroit...\n"
     ]
    },
    {
     "name": "stderr",
     "output_type": "stream",
     "text": [
      "451it [00:34, 13.07it/s]"
     ]
    },
    {
     "name": "stdout",
     "output_type": "stream",
     "text": [
      "Generation for Detroit completed!\n"
     ]
    },
    {
     "name": "stderr",
     "output_type": "stream",
     "text": [
      "\n"
     ]
    },
    {
     "data": {
      "text/html": [
       "<div>\n",
       "<style scoped>\n",
       "    .dataframe tbody tr th:only-of-type {\n",
       "        vertical-align: middle;\n",
       "    }\n",
       "\n",
       "    .dataframe tbody tr th {\n",
       "        vertical-align: top;\n",
       "    }\n",
       "\n",
       "    .dataframe thead th {\n",
       "        text-align: right;\n",
       "    }\n",
       "</style>\n",
       "<table border=\"1\" class=\"dataframe\">\n",
       "  <thead>\n",
       "    <tr style=\"text-align: right;\">\n",
       "      <th></th>\n",
       "      <th>Region</th>\n",
       "      <th>Tract_1940</th>\n",
       "      <th>Tract_2010</th>\n",
       "    </tr>\n",
       "  </thead>\n",
       "  <tbody>\n",
       "    <tr>\n",
       "      <th>0</th>\n",
       "      <td>San Francisco</td>\n",
       "      <td>0600750N0012</td>\n",
       "      <td>06075021400</td>\n",
       "    </tr>\n",
       "    <tr>\n",
       "      <th>1</th>\n",
       "      <td>San Francisco</td>\n",
       "      <td>0600750N0012</td>\n",
       "      <td>06075021300</td>\n",
       "    </tr>\n",
       "    <tr>\n",
       "      <th>2</th>\n",
       "      <td>San Francisco</td>\n",
       "      <td>0600750O0001</td>\n",
       "      <td>06075030500</td>\n",
       "    </tr>\n",
       "    <tr>\n",
       "      <th>3</th>\n",
       "      <td>San Francisco</td>\n",
       "      <td>0600750O0001</td>\n",
       "      <td>06075030102</td>\n",
       "    </tr>\n",
       "    <tr>\n",
       "      <th>4</th>\n",
       "      <td>San Francisco</td>\n",
       "      <td>0600750O0001</td>\n",
       "      <td>06075030101</td>\n",
       "    </tr>\n",
       "    <tr>\n",
       "      <th>...</th>\n",
       "      <td>...</td>\n",
       "      <td>...</td>\n",
       "      <td>...</td>\n",
       "    </tr>\n",
       "    <tr>\n",
       "      <th>452</th>\n",
       "      <td>Detroit</td>\n",
       "      <td>26016300664</td>\n",
       "      <td>26163504700</td>\n",
       "    </tr>\n",
       "    <tr>\n",
       "      <th>453</th>\n",
       "      <td>Detroit</td>\n",
       "      <td>26016300655</td>\n",
       "      <td>26163505500</td>\n",
       "    </tr>\n",
       "    <tr>\n",
       "      <th>454</th>\n",
       "      <td>Detroit</td>\n",
       "      <td>26016300805</td>\n",
       "      <td>26163579500</td>\n",
       "    </tr>\n",
       "    <tr>\n",
       "      <th>455</th>\n",
       "      <td>Detroit</td>\n",
       "      <td>26016300806</td>\n",
       "      <td>26163579800</td>\n",
       "    </tr>\n",
       "    <tr>\n",
       "      <th>456</th>\n",
       "      <td>Detroit</td>\n",
       "      <td>26016300790</td>\n",
       "      <td>26163514300</td>\n",
       "    </tr>\n",
       "  </tbody>\n",
       "</table>\n",
       "<p>6269 rows × 3 columns</p>\n",
       "</div>"
      ],
      "text/plain": [
       "            Region    Tract_1940   Tract_2010\n",
       "0    San Francisco  0600750N0012  06075021400\n",
       "1    San Francisco  0600750N0012  06075021300\n",
       "2    San Francisco  0600750O0001  06075030500\n",
       "3    San Francisco  0600750O0001  06075030102\n",
       "4    San Francisco  0600750O0001  06075030101\n",
       "..             ...           ...          ...\n",
       "452        Detroit   26016300664  26163504700\n",
       "453        Detroit   26016300655  26163505500\n",
       "454        Detroit   26016300805  26163579500\n",
       "455        Detroit   26016300806  26163579800\n",
       "456        Detroit   26016300790  26163514300\n",
       "\n",
       "[6269 rows x 3 columns]"
      ]
     },
     "execution_count": 79,
     "metadata": {},
     "output_type": "execute_result"
    }
   ],
   "source": [
    "tract_crosswalk = pd.DataFrame({'Region':[], 'Tract_1940':[], 'Tract_2010':[]})\n",
    "\n",
    "for index, region in cityList.iterrows():\n",
    "    tract_crosswalk = tract_crosswalk.append(get_county_crosswalk(index))\n",
    "\n",
    "tract_crosswalk"
   ]
  },
  {
   "cell_type": "markdown",
   "metadata": {},
   "source": [
    "Note that oftentimes the 2010 tract did not fall within its 1940 region!"
   ]
  },
  {
   "cell_type": "code",
   "execution_count": 80,
   "metadata": {},
   "outputs": [],
   "source": [
    "tract_crosswalk.to_csv(\"1940-to-2010_tract_crosswalk.csv\")"
   ]
  },
  {
   "cell_type": "code",
   "execution_count": null,
   "metadata": {},
   "outputs": [],
   "source": []
  }
 ],
 "metadata": {
  "kernelspec": {
   "display_name": "Python 3.6.7 64-bit ('tensorflow': conda)",
   "language": "python",
   "name": "python36764bittensorflowconda932265a4d8124c0185ef74e64509c679"
  },
  "language_info": {
   "codemirror_mode": {
    "name": "ipython",
    "version": 3
   },
   "file_extension": ".py",
   "mimetype": "text/x-python",
   "name": "python",
   "nbconvert_exporter": "python",
   "pygments_lexer": "ipython3",
   "version": "3.6.7"
  }
 },
 "nbformat": 4,
 "nbformat_minor": 4
}
