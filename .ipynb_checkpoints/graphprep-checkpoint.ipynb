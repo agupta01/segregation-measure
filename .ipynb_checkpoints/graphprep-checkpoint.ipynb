{
 "cells": [
  {
   "cell_type": "code",
   "execution_count": 41,
   "metadata": {},
   "outputs": [],
   "source": [
    "import numpy as np\n",
    "import pandas as pd\n",
    "import geopandas as gpd\n",
    "import matplotlib.pyplot as plt"
   ]
  },
  {
   "cell_type": "code",
   "execution_count": 5,
   "metadata": {},
   "outputs": [
    {
     "data": {
      "text/html": [
       "<div>\n",
       "<style scoped>\n",
       "    .dataframe tbody tr th:only-of-type {\n",
       "        vertical-align: middle;\n",
       "    }\n",
       "\n",
       "    .dataframe tbody tr th {\n",
       "        vertical-align: top;\n",
       "    }\n",
       "\n",
       "    .dataframe thead th {\n",
       "        text-align: right;\n",
       "    }\n",
       "</style>\n",
       "<table border=\"1\" class=\"dataframe\">\n",
       "  <thead>\n",
       "    <tr style=\"text-align: right;\">\n",
       "      <th></th>\n",
       "      <th>GISJOIN</th>\n",
       "      <th>GEOID</th>\n",
       "      <th>STATEFP</th>\n",
       "      <th>COUNTYFP</th>\n",
       "      <th>TRACTCE</th>\n",
       "      <th>POPULATION</th>\n",
       "      <th>LATITUDE</th>\n",
       "      <th>LONGITUDE</th>\n",
       "      <th>geometry</th>\n",
       "    </tr>\n",
       "  </thead>\n",
       "  <tbody>\n",
       "    <tr>\n",
       "      <th>0</th>\n",
       "      <td>G0100010020100</td>\n",
       "      <td>01001020100</td>\n",
       "      <td>01</td>\n",
       "      <td>001</td>\n",
       "      <td>020100</td>\n",
       "      <td>1912</td>\n",
       "      <td>32.475973</td>\n",
       "      <td>-86.486772</td>\n",
       "      <td>POINT (887851.814 -517474.726)</td>\n",
       "    </tr>\n",
       "    <tr>\n",
       "      <th>1</th>\n",
       "      <td>G0100010020200</td>\n",
       "      <td>01001020200</td>\n",
       "      <td>01</td>\n",
       "      <td>001</td>\n",
       "      <td>020200</td>\n",
       "      <td>2170</td>\n",
       "      <td>32.471763</td>\n",
       "      <td>-86.472782</td>\n",
       "      <td>POINT (889200.085 -517811.023)</td>\n",
       "    </tr>\n",
       "    <tr>\n",
       "      <th>2</th>\n",
       "      <td>G0100010020300</td>\n",
       "      <td>01001020300</td>\n",
       "      <td>01</td>\n",
       "      <td>001</td>\n",
       "      <td>020300</td>\n",
       "      <td>3373</td>\n",
       "      <td>32.474011</td>\n",
       "      <td>-86.459639</td>\n",
       "      <td>POINT (890397.512 -517438.554)</td>\n",
       "    </tr>\n",
       "    <tr>\n",
       "      <th>3</th>\n",
       "      <td>G0100010020400</td>\n",
       "      <td>01001020400</td>\n",
       "      <td>01</td>\n",
       "      <td>001</td>\n",
       "      <td>020400</td>\n",
       "      <td>4386</td>\n",
       "      <td>32.468685</td>\n",
       "      <td>-86.443021</td>\n",
       "      <td>POINT (892002.859 -517873.612)</td>\n",
       "    </tr>\n",
       "    <tr>\n",
       "      <th>4</th>\n",
       "      <td>G0100010020500</td>\n",
       "      <td>01001020500</td>\n",
       "      <td>01</td>\n",
       "      <td>001</td>\n",
       "      <td>020500</td>\n",
       "      <td>10766</td>\n",
       "      <td>32.465330</td>\n",
       "      <td>-86.423696</td>\n",
       "      <td>POINT (893838.094 -518064.250)</td>\n",
       "    </tr>\n",
       "    <tr>\n",
       "      <th>...</th>\n",
       "      <td>...</td>\n",
       "      <td>...</td>\n",
       "      <td>...</td>\n",
       "      <td>...</td>\n",
       "      <td>...</td>\n",
       "      <td>...</td>\n",
       "      <td>...</td>\n",
       "      <td>...</td>\n",
       "      <td>...</td>\n",
       "    </tr>\n",
       "    <tr>\n",
       "      <th>73997</th>\n",
       "      <td>G7201530750501</td>\n",
       "      <td>72153750501</td>\n",
       "      <td>72</td>\n",
       "      <td>153</td>\n",
       "      <td>750501</td>\n",
       "      <td>4960</td>\n",
       "      <td>18.030947</td>\n",
       "      <td>-66.868030</td>\n",
       "      <td>POINT (3157557.538 -1653628.676)</td>\n",
       "    </tr>\n",
       "    <tr>\n",
       "      <th>73998</th>\n",
       "      <td>G7201530750502</td>\n",
       "      <td>72153750502</td>\n",
       "      <td>72</td>\n",
       "      <td>153</td>\n",
       "      <td>750502</td>\n",
       "      <td>2092</td>\n",
       "      <td>18.025411</td>\n",
       "      <td>-66.860207</td>\n",
       "      <td>POINT (3158556.581 -1653930.481)</td>\n",
       "    </tr>\n",
       "    <tr>\n",
       "      <th>73999</th>\n",
       "      <td>G7201530750503</td>\n",
       "      <td>72153750503</td>\n",
       "      <td>72</td>\n",
       "      <td>153</td>\n",
       "      <td>750503</td>\n",
       "      <td>2357</td>\n",
       "      <td>18.025744</td>\n",
       "      <td>-66.873776</td>\n",
       "      <td>POINT (3157121.454 -1654347.571)</td>\n",
       "    </tr>\n",
       "    <tr>\n",
       "      <th>74000</th>\n",
       "      <td>G7201530750601</td>\n",
       "      <td>72153750601</td>\n",
       "      <td>72</td>\n",
       "      <td>153</td>\n",
       "      <td>750601</td>\n",
       "      <td>5315</td>\n",
       "      <td>18.018029</td>\n",
       "      <td>-66.844223</td>\n",
       "      <td>POINT (3160471.741 -1654148.114)</td>\n",
       "    </tr>\n",
       "    <tr>\n",
       "      <th>74001</th>\n",
       "      <td>G7201530750602</td>\n",
       "      <td>72153750602</td>\n",
       "      <td>72</td>\n",
       "      <td>153</td>\n",
       "      <td>750602</td>\n",
       "      <td>3141</td>\n",
       "      <td>18.005588</td>\n",
       "      <td>-66.861211</td>\n",
       "      <td>POINT (3159088.005 -1655975.272)</td>\n",
       "    </tr>\n",
       "  </tbody>\n",
       "</table>\n",
       "<p>74002 rows × 9 columns</p>\n",
       "</div>"
      ],
      "text/plain": [
       "              GISJOIN        GEOID STATEFP COUNTYFP TRACTCE  POPULATION  \\\n",
       "0      G0100010020100  01001020100      01      001  020100        1912   \n",
       "1      G0100010020200  01001020200      01      001  020200        2170   \n",
       "2      G0100010020300  01001020300      01      001  020300        3373   \n",
       "3      G0100010020400  01001020400      01      001  020400        4386   \n",
       "4      G0100010020500  01001020500      01      001  020500       10766   \n",
       "...               ...          ...     ...      ...     ...         ...   \n",
       "73997  G7201530750501  72153750501      72      153  750501        4960   \n",
       "73998  G7201530750502  72153750502      72      153  750502        2092   \n",
       "73999  G7201530750503  72153750503      72      153  750503        2357   \n",
       "74000  G7201530750601  72153750601      72      153  750601        5315   \n",
       "74001  G7201530750602  72153750602      72      153  750602        3141   \n",
       "\n",
       "        LATITUDE  LONGITUDE                          geometry  \n",
       "0      32.475973 -86.486772    POINT (887851.814 -517474.726)  \n",
       "1      32.471763 -86.472782    POINT (889200.085 -517811.023)  \n",
       "2      32.474011 -86.459639    POINT (890397.512 -517438.554)  \n",
       "3      32.468685 -86.443021    POINT (892002.859 -517873.612)  \n",
       "4      32.465330 -86.423696    POINT (893838.094 -518064.250)  \n",
       "...          ...        ...                               ...  \n",
       "73997  18.030947 -66.868030  POINT (3157557.538 -1653628.676)  \n",
       "73998  18.025411 -66.860207  POINT (3158556.581 -1653930.481)  \n",
       "73999  18.025744 -66.873776  POINT (3157121.454 -1654347.571)  \n",
       "74000  18.018029 -66.844223  POINT (3160471.741 -1654148.114)  \n",
       "74001  18.005588 -66.861211  POINT (3159088.005 -1655975.272)  \n",
       "\n",
       "[74002 rows x 9 columns]"
      ]
     },
     "execution_count": 5,
     "metadata": {},
     "output_type": "execute_result"
    }
   ],
   "source": [
    "cenpops = gpd.read_file('data/nhgis0003_shape/US_tract_cenpop_2010.shp')\n",
    "cenpops"
   ]
  },
  {
   "cell_type": "code",
   "execution_count": 39,
   "metadata": {},
   "outputs": [
    {
     "data": {
      "text/plain": [
       "<matplotlib.axes._subplots.AxesSubplot at 0x7faa3ce4b128>"
      ]
     },
     "execution_count": 39,
     "metadata": {},
     "output_type": "execute_result"
    },
    {
     "data": {
      "image/png": "[encoded data removed]",
      "text/plain": [
       "<Figure size 432x288 with 1 Axes>"
      ]
     },
     "metadata": {
      "needs_background": "light"
     },
     "output_type": "display_data"
    }
   ],
   "source": [
    "fresno = cenpops.loc[(cenpops.STATEFP == '06') & (cenpops.COUNTYFP == '019')]\n",
    "fresno.plot()"
   ]
  },
  {
   "cell_type": "code",
   "execution_count": 40,
   "metadata": {},
   "outputs": [
    {
     "name": "stdout",
     "output_type": "stream",
     "text": [
      "mkdir: cannot create directory ‘graph_tests’: File exists\n"
     ]
    },
    {
     "data": {
      "image/png": "[encoded data removed]",
      "text/plain": [
       "<Figure size 432x288 with 1 Axes>"
      ]
     },
     "metadata": {
      "needs_background": "light"
     },
     "output_type": "display_data"
    }
   ],
   "source": [
    "tracts = pd.DataFrame({'tract_ID': fresno.GEOID.values, \n",
    "                       'X': [fresno.geometry.iloc[i].x for i in range(len(fresno.index))], \n",
    "                       'Y': [fresno.geometry.iloc[i].y for i in range(len(fresno.index))]})\n",
    "plt.scatter(tracts.X, tracts.Y)\n",
    "!mkdir graph_tests\n",
    "tracts.to_csv('graph_tests/fresno_cenpops.csv', index=False)"
   ]
  },
  {
   "cell_type": "code",
   "execution_count": 61,
   "metadata": {},
   "outputs": [
    {
     "data": {
      "image/png": "[encoded data removed]",
      "text/plain": [
       "<Figure size 432x288 with 1 Axes>"
      ]
     },
     "metadata": {
      "needs_background": "light"
     },
     "output_type": "display_data"
    }
   ],
   "source": [
    "SIZE = 40\n",
    "X_normal = np.random.gumbel(loc=1.5, scale=1.75, size=SIZE)\n",
    "Y_normal = np.random.gumbel(loc=1.5, scale=1.75, size=SIZE)\n",
    "IDs_normal = [f\"A{i:03}\" for i in range(SIZE)]\n",
    "tracts_normal = pd.DataFrame({'tract_ID': IDs_normal, 'X': X_normal, 'Y': Y_normal})\n",
    "plt.scatter(tracts_normal.X, tracts_normal.Y)\n",
    "tracts_normal.to_csv(f'graph_tests/gumbel_{SIZE}.csv', index=False)"
   ]
  },
  {
   "cell_type": "code",
   "execution_count": null,
   "metadata": {},
   "outputs": [],
   "source": []
  }
 ],
 "metadata": {
  "kernelspec": {
   "display_name": "ds",
   "language": "python",
   "name": "ds"
  },
  "language_info": {
   "codemirror_mode": {
    "name": "ipython",
    "version": 3
   },
   "file_extension": ".py",
   "mimetype": "text/x-python",
   "name": "python",
   "nbconvert_exporter": "python",
   "pygments_lexer": "ipython3",
   "version": "3.6.10"
  }
 },
 "nbformat": 4,
 "nbformat_minor": 4
}
