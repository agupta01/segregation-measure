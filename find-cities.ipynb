{
 "cells": [
  {
   "cell_type": "code",
   "execution_count": 1,
   "metadata": {},
   "outputs": [],
   "source": [
    "import numpy as np\n",
    "import geopandas as gpd\n",
    "import shapely"
   ]
  },
  {
   "cell_type": "code",
   "execution_count": 2,
   "metadata": {},
   "outputs": [],
   "source": [
    "data = gpd.read_file(\"data/nhgis0001_shape/1940_shapefiles/US_tract_1940.shp\")\n",
    "data10 = gpd.read_file(\"data/nhgis0001_shape/2010_shapefiles/US_tract_2010.shp\")"
   ]
  },
  {
   "cell_type": "code",
   "execution_count": null,
   "metadata": {},
   "outputs": [],
   "source": [
    "type(data)"
   ]
  },
  {
   "cell_type": "markdown",
   "metadata": {},
   "source": [
    "- NHGISST - State FIPS Code\n",
    "- NHGISCTY - County FIPS Code\n",
    "- GISJOIN2 - Tract ID"
   ]
  },
  {
   "cell_type": "code",
   "execution_count": null,
   "metadata": {},
   "outputs": [],
   "source": [
    "data.head()"
   ]
  },
  {
   "cell_type": "code",
   "execution_count": 3,
   "metadata": {},
   "outputs": [
    {
     "data": {
      "text/plain": [
       "array(['010', '060', '080', '090', '110', '130', '155', '170', '180',\n",
       "       '190', '210', '220', '240', '250', '260', '270', '290', '340',\n",
       "       '360', '390', '400', '410', '420', '440', '450', '470', '480',\n",
       "       '510', '530', '550'], dtype=object)"
      ]
     },
     "execution_count": 3,
     "metadata": {},
     "output_type": "execute_result"
    }
   ],
   "source": [
    "codes = np.unique(data.NHGISST.values)\n",
    "codes"
   ]
  },
  {
   "cell_type": "code",
   "execution_count": 4,
   "metadata": {},
   "outputs": [
    {
     "ename": "ModuleNotFoundError",
     "evalue": "No module named 'descartes'",
     "output_type": "error",
     "traceback": [
      "\u001b[0;31m---------------------------------------------------------------------------\u001b[0m",
      "\u001b[0;31mModuleNotFoundError\u001b[0m                       Traceback (most recent call last)",
      "\u001b[0;32m<ipython-input-4-5d45d2841bdb>\u001b[0m in \u001b[0;36m<module>\u001b[0;34m\u001b[0m\n\u001b[1;32m      1\u001b[0m \u001b[0;31m# import matplotlib\u001b[0m\u001b[0;34m\u001b[0m\u001b[0;34m\u001b[0m\u001b[0;34m\u001b[0m\u001b[0m\n\u001b[0;32m----> 2\u001b[0;31m \u001b[0;32mimport\u001b[0m \u001b[0mdescartes\u001b[0m\u001b[0;34m\u001b[0m\u001b[0;34m\u001b[0m\u001b[0m\n\u001b[0m\u001b[1;32m      3\u001b[0m \u001b[0mget_ipython\u001b[0m\u001b[0;34m(\u001b[0m\u001b[0;34m)\u001b[0m\u001b[0;34m.\u001b[0m\u001b[0mrun_line_magic\u001b[0m\u001b[0;34m(\u001b[0m\u001b[0;34m'matplotlib'\u001b[0m\u001b[0;34m,\u001b[0m \u001b[0;34m'inline'\u001b[0m\u001b[0;34m)\u001b[0m\u001b[0;34m\u001b[0m\u001b[0;34m\u001b[0m\u001b[0m\n\u001b[1;32m      4\u001b[0m \u001b[0mprint\u001b[0m\u001b[0;34m(\u001b[0m\u001b[0mnp\u001b[0m\u001b[0;34m.\u001b[0m\u001b[0munique\u001b[0m\u001b[0;34m(\u001b[0m\u001b[0mdata\u001b[0m\u001b[0;34m[\u001b[0m\u001b[0mdata\u001b[0m\u001b[0;34m.\u001b[0m\u001b[0mNHGISST\u001b[0m \u001b[0;34m==\u001b[0m \u001b[0mcodes\u001b[0m\u001b[0;34m[\u001b[0m\u001b[0;36m14\u001b[0m\u001b[0;34m]\u001b[0m\u001b[0;34m]\u001b[0m\u001b[0;34m.\u001b[0m\u001b[0mNHGISCTY\u001b[0m\u001b[0;34m.\u001b[0m\u001b[0mvalues\u001b[0m\u001b[0;34m)\u001b[0m\u001b[0;34m)\u001b[0m\u001b[0;34m\u001b[0m\u001b[0;34m\u001b[0m\u001b[0m\n\u001b[1;32m      5\u001b[0m \u001b[0mdata\u001b[0m\u001b[0;34m[\u001b[0m\u001b[0mdata\u001b[0m\u001b[0;34m.\u001b[0m\u001b[0mNHGISST\u001b[0m \u001b[0;34m==\u001b[0m \u001b[0;34m'060'\u001b[0m\u001b[0;34m]\u001b[0m\u001b[0;34m\u001b[0m\u001b[0;34m\u001b[0m\u001b[0m\n",
      "\u001b[0;31mModuleNotFoundError\u001b[0m: No module named 'descartes'"
     ]
    }
   ],
   "source": [
    "# import matplotlib\n",
    "import descartes\n",
    "%matplotlib inline\n",
    "print(np.unique(data[data.NHGISST == codes[14]].NHGISCTY.values))\n",
    "data[data.NHGISST == '060']"
   ]
  },
  {
   "cell_type": "code",
   "execution_count": null,
   "metadata": {},
   "outputs": [],
   "source": [
    "print(data[data.NHGISCTY == codes[16]].GISJOIN2)\n",
    "codes[16]"
   ]
  },
  {
   "cell_type": "markdown",
   "metadata": {},
   "source": [
    "Manually verify that the tract crosswalk matches up:"
   ]
  },
  {
   "cell_type": "code",
   "execution_count": null,
   "metadata": {},
   "outputs": [],
   "source": [
    "import matplotlib.pyplot as plt\n",
    "\n",
    "polygon = data[data.GISJOIN2 == '18009700136'].geometry.values[0]\n",
    "polygon10 = data10[data10.GEOID10 == \"18097320301\"].geometry.values[0].centroid\n",
    "polygon10_2 = data10[data10.GEOID10 == \"18097320304\"].geometry.values[0].centroid\n",
    "polygon10_3 = data10[data10.GEOID10 == \"18097320500\"].geometry.values[0].centroid\n",
    "\n",
    "x, y = polygon.exterior.xy\n",
    "x10, y10 = polygon10.x, polygon10.y\n",
    "x10_2, y10_2 = polygon10_2.x, polygon10_2.y\n",
    "x10_3, y10_3 = polygon10_3.x, polygon10_3.y\n",
    "fig, ax = plt.subplots()\n",
    "ax.plot(x, y, c='r', alpha=0.5)\n",
    "ax.scatter(x10, y10, c='blue')\n",
    "ax.scatter(x10_2, y10_2, c='blue')\n",
    "ax.scatter(x10_3, y10_3, c='blue')"
   ]
  },
  {
   "cell_type": "code",
   "execution_count": 7,
   "metadata": {},
   "outputs": [
    {
     "data": {
      "text/html": [
       "<div>\n",
       "<style scoped>\n",
       "    .dataframe tbody tr th:only-of-type {\n",
       "        vertical-align: middle;\n",
       "    }\n",
       "\n",
       "    .dataframe tbody tr th {\n",
       "        vertical-align: top;\n",
       "    }\n",
       "\n",
       "    .dataframe thead th {\n",
       "        text-align: right;\n",
       "    }\n",
       "</style>\n",
       "<table border=\"1\" class=\"dataframe\">\n",
       "  <thead>\n",
       "    <tr style=\"text-align: right;\">\n",
       "      <th></th>\n",
       "      <th>GISJOIN</th>\n",
       "      <th>GEOID</th>\n",
       "      <th>STATEFP</th>\n",
       "      <th>COUNTYFP</th>\n",
       "      <th>TRACTCE</th>\n",
       "      <th>POPULATION</th>\n",
       "      <th>LATITUDE</th>\n",
       "      <th>LONGITUDE</th>\n",
       "      <th>geometry</th>\n",
       "    </tr>\n",
       "  </thead>\n",
       "  <tbody>\n",
       "    <tr>\n",
       "      <th>0</th>\n",
       "      <td>G0100010020100</td>\n",
       "      <td>01001020100</td>\n",
       "      <td>01</td>\n",
       "      <td>001</td>\n",
       "      <td>020100</td>\n",
       "      <td>1912</td>\n",
       "      <td>32.475973</td>\n",
       "      <td>-86.486772</td>\n",
       "      <td>POINT (887851.814 -517474.726)</td>\n",
       "    </tr>\n",
       "    <tr>\n",
       "      <th>1</th>\n",
       "      <td>G0100010020200</td>\n",
       "      <td>01001020200</td>\n",
       "      <td>01</td>\n",
       "      <td>001</td>\n",
       "      <td>020200</td>\n",
       "      <td>2170</td>\n",
       "      <td>32.471763</td>\n",
       "      <td>-86.472782</td>\n",
       "      <td>POINT (889200.085 -517811.023)</td>\n",
       "    </tr>\n",
       "    <tr>\n",
       "      <th>2</th>\n",
       "      <td>G0100010020300</td>\n",
       "      <td>01001020300</td>\n",
       "      <td>01</td>\n",
       "      <td>001</td>\n",
       "      <td>020300</td>\n",
       "      <td>3373</td>\n",
       "      <td>32.474011</td>\n",
       "      <td>-86.459639</td>\n",
       "      <td>POINT (890397.512 -517438.554)</td>\n",
       "    </tr>\n",
       "    <tr>\n",
       "      <th>3</th>\n",
       "      <td>G0100010020400</td>\n",
       "      <td>01001020400</td>\n",
       "      <td>01</td>\n",
       "      <td>001</td>\n",
       "      <td>020400</td>\n",
       "      <td>4386</td>\n",
       "      <td>32.468685</td>\n",
       "      <td>-86.443021</td>\n",
       "      <td>POINT (892002.859 -517873.612)</td>\n",
       "    </tr>\n",
       "    <tr>\n",
       "      <th>4</th>\n",
       "      <td>G0100010020500</td>\n",
       "      <td>01001020500</td>\n",
       "      <td>01</td>\n",
       "      <td>001</td>\n",
       "      <td>020500</td>\n",
       "      <td>10766</td>\n",
       "      <td>32.465330</td>\n",
       "      <td>-86.423696</td>\n",
       "      <td>POINT (893838.094 -518064.250)</td>\n",
       "    </tr>\n",
       "    <tr>\n",
       "      <th>...</th>\n",
       "      <td>...</td>\n",
       "      <td>...</td>\n",
       "      <td>...</td>\n",
       "      <td>...</td>\n",
       "      <td>...</td>\n",
       "      <td>...</td>\n",
       "      <td>...</td>\n",
       "      <td>...</td>\n",
       "      <td>...</td>\n",
       "    </tr>\n",
       "    <tr>\n",
       "      <th>73997</th>\n",
       "      <td>G7201530750501</td>\n",
       "      <td>72153750501</td>\n",
       "      <td>72</td>\n",
       "      <td>153</td>\n",
       "      <td>750501</td>\n",
       "      <td>4960</td>\n",
       "      <td>18.030947</td>\n",
       "      <td>-66.868030</td>\n",
       "      <td>POINT (3157557.538 -1653628.676)</td>\n",
       "    </tr>\n",
       "    <tr>\n",
       "      <th>73998</th>\n",
       "      <td>G7201530750502</td>\n",
       "      <td>72153750502</td>\n",
       "      <td>72</td>\n",
       "      <td>153</td>\n",
       "      <td>750502</td>\n",
       "      <td>2092</td>\n",
       "      <td>18.025411</td>\n",
       "      <td>-66.860207</td>\n",
       "      <td>POINT (3158556.581 -1653930.481)</td>\n",
       "    </tr>\n",
       "    <tr>\n",
       "      <th>73999</th>\n",
       "      <td>G7201530750503</td>\n",
       "      <td>72153750503</td>\n",
       "      <td>72</td>\n",
       "      <td>153</td>\n",
       "      <td>750503</td>\n",
       "      <td>2357</td>\n",
       "      <td>18.025744</td>\n",
       "      <td>-66.873776</td>\n",
       "      <td>POINT (3157121.454 -1654347.571)</td>\n",
       "    </tr>\n",
       "    <tr>\n",
       "      <th>74000</th>\n",
       "      <td>G7201530750601</td>\n",
       "      <td>72153750601</td>\n",
       "      <td>72</td>\n",
       "      <td>153</td>\n",
       "      <td>750601</td>\n",
       "      <td>5315</td>\n",
       "      <td>18.018029</td>\n",
       "      <td>-66.844223</td>\n",
       "      <td>POINT (3160471.741 -1654148.114)</td>\n",
       "    </tr>\n",
       "    <tr>\n",
       "      <th>74001</th>\n",
       "      <td>G7201530750602</td>\n",
       "      <td>72153750602</td>\n",
       "      <td>72</td>\n",
       "      <td>153</td>\n",
       "      <td>750602</td>\n",
       "      <td>3141</td>\n",
       "      <td>18.005588</td>\n",
       "      <td>-66.861211</td>\n",
       "      <td>POINT (3159088.005 -1655975.272)</td>\n",
       "    </tr>\n",
       "  </tbody>\n",
       "</table>\n",
       "<p>74002 rows × 9 columns</p>\n",
       "</div>"
      ],
      "text/plain": [
       "              GISJOIN        GEOID STATEFP COUNTYFP TRACTCE  POPULATION  \\\n",
       "0      G0100010020100  01001020100      01      001  020100        1912   \n",
       "1      G0100010020200  01001020200      01      001  020200        2170   \n",
       "2      G0100010020300  01001020300      01      001  020300        3373   \n",
       "3      G0100010020400  01001020400      01      001  020400        4386   \n",
       "4      G0100010020500  01001020500      01      001  020500       10766   \n",
       "...               ...          ...     ...      ...     ...         ...   \n",
       "73997  G7201530750501  72153750501      72      153  750501        4960   \n",
       "73998  G7201530750502  72153750502      72      153  750502        2092   \n",
       "73999  G7201530750503  72153750503      72      153  750503        2357   \n",
       "74000  G7201530750601  72153750601      72      153  750601        5315   \n",
       "74001  G7201530750602  72153750602      72      153  750602        3141   \n",
       "\n",
       "        LATITUDE  LONGITUDE                          geometry  \n",
       "0      32.475973 -86.486772    POINT (887851.814 -517474.726)  \n",
       "1      32.471763 -86.472782    POINT (889200.085 -517811.023)  \n",
       "2      32.474011 -86.459639    POINT (890397.512 -517438.554)  \n",
       "3      32.468685 -86.443021    POINT (892002.859 -517873.612)  \n",
       "4      32.465330 -86.423696    POINT (893838.094 -518064.250)  \n",
       "...          ...        ...                               ...  \n",
       "73997  18.030947 -66.868030  POINT (3157557.538 -1653628.676)  \n",
       "73998  18.025411 -66.860207  POINT (3158556.581 -1653930.481)  \n",
       "73999  18.025744 -66.873776  POINT (3157121.454 -1654347.571)  \n",
       "74000  18.018029 -66.844223  POINT (3160471.741 -1654148.114)  \n",
       "74001  18.005588 -66.861211  POINT (3159088.005 -1655975.272)  \n",
       "\n",
       "[74002 rows x 9 columns]"
      ]
     },
     "execution_count": 7,
     "metadata": {},
     "output_type": "execute_result"
    }
   ],
   "source": [
    "centers_of_population = gpd.read_file(\"./nhgis0002_shape/nhgis0002_shape/nhgis0002_shapefile_cenpop2010_us_tract_cenpop_2010/US_tract_cenpop_2010.shp\")\n",
    "centers_of_population"
   ]
  },
  {
   "cell_type": "code",
   "execution_count": null,
   "metadata": {},
   "outputs": [],
   "source": []
  }
 ],
 "metadata": {
  "kernelspec": {
   "display_name": "ds",
   "language": "python",
   "name": "ds"
  },
  "language_info": {
   "codemirror_mode": {
    "name": "ipython",
    "version": 3
   },
   "file_extension": ".py",
   "mimetype": "text/x-python",
   "name": "python",
   "nbconvert_exporter": "python",
   "pygments_lexer": "ipython3",
   "version": "3.6.10"
  }
 },
 "nbformat": 4,
 "nbformat_minor": 4
}
